{
 "cells": [
  {
   "cell_type": "markdown",
   "metadata": {},
   "source": [
    "# Laboratory Work №6\n",
    "## Manipulator Robot Control  \n",
    "### ISU ID :\n"
   ]
  },
  {
   "cell_type": "markdown",
   "metadata": {},
   "source": [
    "## Task  "
   ]
  },
  {
   "cell_type": "markdown",
   "metadata": {},
   "source": [
    "1. Load the manipulator model from the toolbox according to the selected robot kinematics variant.  \n",
    "2. Fill in all robot model parameters in accordance with Lab Work No. 1.  \n",
    "3. Define the desired trajectory of the manipulator motion in accordance with Lab Work No. 2.  \n",
    "4. Create a control system model for the robot that implements regulation based on impedance control.  \n",
    "5. Tune the controller coefficients to minimize the end-effector position error.  \n",
    "6. Plot the position, velocity, and torque for each robot link during motion along the trajectory.  \n",
    "7. Add a payload and repeat steps 5–6.  \n",
    "8. Prepare a report in `.ipynb` format with detailed comments. Draw conclusions based on the results of the work.  \n"
   ]
  },
  {
   "cell_type": "markdown",
   "metadata": {},
   "source": [
    "## Execution  "
   ]
  },
  {
   "cell_type": "markdown",
   "metadata": {},
   "source": [
    "### 0. Import the necessary libraries  "
   ]
  },
  {
   "cell_type": "code",
   "execution_count": 1,
   "metadata": {},
   "outputs": [],
   "source": [
    "from math import pi\n",
    "import numpy as np\n",
    "import matplotlib.pyplot as plt\n",
    "import roboticstoolbox as rtb\n",
    "import spatialmath as sm"
   ]
  },
  {
   "cell_type": "markdown",
   "metadata": {},
   "source": [
    "### 1. Import the IRB140 model (Puma doesn't work here)\n"
   ]
  },
  {
   "cell_type": "code",
   "execution_count": 1,
   "metadata": {},
   "outputs": [
    {
     "ename": "NameError",
     "evalue": "name 'rtb' is not defined",
     "output_type": "error",
     "traceback": [
      "\u001b[1;31m---------------------------------------------------------------------------\u001b[0m",
      "\u001b[1;31mNameError\u001b[0m                                 Traceback (most recent call last)",
      "Cell \u001b[1;32mIn[1], line 1\u001b[0m\n\u001b[1;32m----> 1\u001b[0m robot \u001b[38;5;241m=\u001b[39m \u001b[43mrtb\u001b[49m\u001b[38;5;241m.\u001b[39mmodels\u001b[38;5;241m.\u001b[39mDH\u001b[38;5;241m.\u001b[39mIRB140()\n\u001b[0;32m      2\u001b[0m robot\n",
      "\u001b[1;31mNameError\u001b[0m: name 'rtb' is not defined"
     ]
    }
   ],
   "source": [
    "robot = rtb.models.DH.IRB140()\n",
    "robot"
   ]
  },
  {
   "cell_type": "markdown",
   "metadata": {},
   "source": [
    "### 2. Fill in the robot model parameters  \n",
    ">\"You must adapt it for your model.\" "
   ]
  },
  {
   "cell_type": "markdown",
   "metadata": {},
   "source": [
    "Set the link masses "
   ]
  },
  {
   "cell_type": "code",
   "execution_count": 3,
   "metadata": {},
   "outputs": [],
   "source": [
    "robot.links[0].m = 20\n",
    "robot.links[1].m = 17.4\n",
    "robot.links[2].m = 4.8\n",
    "robot.links[3].m = 0.82\n",
    "robot.links[4].m = 0.34\n",
    "robot.links[5].m = 0.09"
   ]
  },
  {
   "cell_type": "markdown",
   "metadata": {},
   "source": [
    "Set the center of mass of each link  "
   ]
  },
  {
   "cell_type": "code",
   "execution_count": 4,
   "metadata": {},
   "outputs": [],
   "source": [
    "robot.links[0].r = [0, 0, 0]\n",
    "robot.links[1].r = [-0.3638, 0.006, 0.2275]\n",
    "robot.links[2].r = [-0.0203, -0.0141, 0.07]\n",
    "robot.links[3].r = [0, 0.019, 0]\n",
    "robot.links[4].r = [0, 0, 0]\n",
    "robot.links[5].r = [0, 0, 0.032]"
   ]
  },
  {
   "cell_type": "markdown",
   "metadata": {},
   "source": [
    "Set the inertia tensor of each link. Format: [Lxx, Lyy, Lzz, Lxy, Lyz, Lxz]  "
   ]
  },
  {
   "cell_type": "code",
   "execution_count": 5,
   "metadata": {},
   "outputs": [],
   "source": [
    "robot.links[0].I = [0, 0.35, 0, 0, 0, 0]\n",
    "robot.links[1].I = [0.13, 0.524, 0.539, 0, 0, 0]\n",
    "robot.links[2].I = [0.066, 0.086, 0.0125, 0, 0, 0]\n",
    "robot.links[3].I = [0.0018, 0.0013, 0.0018, 0, 0, 0]\n",
    "robot.links[4].I = [0.0003, 0.0004, 0.0003, 0, 0, 0]\n",
    "robot.links[5].I = [0.00015, 0.00015, 0.00004, 0, 0, 0]"
   ]
  },
  {
   "cell_type": "markdown",
   "metadata": {},
   "source": [
    "Set the drive inertia"
   ]
  },
  {
   "cell_type": "code",
   "execution_count": 6,
   "metadata": {},
   "outputs": [],
   "source": [
    "robot.links[0].Jm = 0.0004\n",
    "robot.links[1].Jm = 0.0004\n",
    "robot.links[2].Jm = 0.0004\n",
    "robot.links[3].Jm = 0.000033\n",
    "robot.links[4].Jm = 0.000033\n",
    "robot.links[5].Jm = 0.000033"
   ]
  },
  {
   "cell_type": "markdown",
   "metadata": {},
   "source": [
    "Set the viscous friction coefficient of the drive  "
   ]
  },
  {
   "cell_type": "code",
   "execution_count": 7,
   "metadata": {},
   "outputs": [],
   "source": [
    "robot.links[0].B = 0.0015\n",
    "robot.links[1].B = 0.000817\n",
    "robot.links[2].B = 0.00138\n",
    "robot.links[3].B = 0.0000712\n",
    "robot.links[4].B = 0.0000826\n",
    "robot.links[5].B = 0.0000367"
   ]
  },
  {
   "cell_type": "markdown",
   "metadata": {},
   "source": [
    "Set the Coulomb friction coefficient of the drive  "
   ]
  },
  {
   "cell_type": "code",
   "execution_count": 8,
   "metadata": {},
   "outputs": [],
   "source": [
    "robot.links[0].Tc = [0.395, -0.435]\n",
    "robot.links[1].Tc = [0.126, -0.071]\n",
    "robot.links[2].Tc = [0.132, -0.105]\n",
    "robot.links[3].Tc = [0.0112, -0.0169]\n",
    "robot.links[4].Tc = [0.00926, -0.0145]\n",
    "robot.links[5].Tc = [0.00396, -0.0105]"
   ]
  },
  {
   "cell_type": "markdown",
   "metadata": {},
   "source": [
    "Set the gear ratio for each link  "
   ]
  },
  {
   "cell_type": "code",
   "execution_count": 9,
   "metadata": {},
   "outputs": [],
   "source": [
    "robot.links[0].G = -62.6111\n",
    "robot.links[1].G = 107.8150000000000\n",
    "robot.links[2].G = -53.7063\n",
    "robot.links[3].G = 76.0364\n",
    "robot.links[4].G = 71.923\n",
    "robot.links[5].G = 76.686"
   ]
  },
  {
   "cell_type": "markdown",
   "metadata": {},
   "source": [
    "Set limits on the generalized coordinates for each link  "
   ]
  },
  {
   "cell_type": "code",
   "execution_count": 10,
   "metadata": {},
   "outputs": [],
   "source": [
    "robot.links[0].qlim = [-2.792526803190927, 2.792526803190927]\n",
    "robot.links[1].qlim = [-0.785398163397448, 3.926990816987241]\n",
    "robot.links[2].qlim = [-3.926990816987241, 0.785398163397448]\n",
    "robot.links[3].qlim = [-1.919862177193763, 2.967059728390360]\n",
    "robot.links[4].qlim = [-1.745329251994330, 1.745329251994330]\n",
    "robot.links[5].qlim = [-4.642575810304916, 4.642575810304916]"
   ]
  },
  {
   "cell_type": "markdown",
   "metadata": {},
   "source": [
    "### 3. Define the desired trajectory  "
   ]
  },
  {
   "cell_type": "markdown",
   "metadata": {},
   "source": [
    "Set the initial and final generalized coordinates  "
   ]
  },
  {
   "cell_type": "code",
   "execution_count": 11,
   "metadata": {},
   "outputs": [],
   "source": [
    "q_start = [0, 0, 0, 0, 0, 0]\n",
    "q_end = [pi/3, -pi/4, -pi/3, pi/4, -pi/3, pi/4]"
   ]
  },
  {
   "cell_type": "markdown",
   "metadata": {},
   "source": [
    "Set the time array  "
   ]
  },
  {
   "cell_type": "code",
   "execution_count": 12,
   "metadata": {},
   "outputs": [],
   "source": [
    "t_start, t_stop, t_shag = 0, 5, 0.05\n",
    "time = np.arange(t_start,t_stop,t_shag)"
   ]
  },
  {
   "cell_type": "markdown",
   "metadata": {},
   "source": [
    "Obtain the trajectory of the entire manipulator  "
   ]
  },
  {
   "cell_type": "code",
   "execution_count": 13,
   "metadata": {},
   "outputs": [],
   "source": [
    "traj = rtb.mtraj(rtb.trapezoidal, q_start, q_end, time)\n",
    "cq_traj = robot.fkine(traj.q)\n",
    "cqd_traj = robot.fkine(traj.qd)"
   ]
  },
  {
   "cell_type": "markdown",
   "metadata": {},
   "source": [
    "### 4. Synthesize the control loop  "
   ]
  },
  {
   "cell_type": "markdown",
   "metadata": {},
   "source": [
    "Set coefficients for impedance control (three 6x6 matrices)  "
   ]
  },
  {
   "cell_type": "code",
   "execution_count": 14,
   "metadata": {},
   "outputs": [],
   "source": [
    "Md = np.diag([1, 1, 1, 1, 1, 1], 0)  # everything here  \n",
    "Kd = np.diag([2, 2, 2, 2, 2, 2], 0)  # is chosen arbitrarily,  \n",
    "Kp = np.diag([3, 3, 3, 3, 3, 3], 0)  # needs to be tuned "
   ]
  },
  {
   "cell_type": "markdown",
   "metadata": {},
   "source": [
    "Initialize arrays for data storage  "
   ]
  },
  {
   "cell_type": "code",
   "execution_count": 15,
   "metadata": {},
   "outputs": [],
   "source": [
    "torques = []\n",
    "errors = []"
   ]
  },
  {
   "cell_type": "markdown",
   "metadata": {},
   "source": [
    "define an impedance_controller"
   ]
  },
  {
   "cell_type": "code",
   "execution_count": null,
   "metadata": {},
   "outputs": [],
   "source": [
    "def impedance_control(robot, t, q_act, qd_act):\n",
    "\n",
    "    # Determine the array element (index) corresponding to the current time     \n",
    "    mask = np.round(np.abs(time-t),3) <= t_shag\n",
    "    list_idx = np.array(range(len(mask)))\n",
    "    idx = list_idx[mask][0]\n",
    "\n",
    "    # Extract position and velocity at the current time \n",
    "    q_des = traj.q[idx]\n",
    "    qd_des = traj.qd[idx]\n",
    "    \n",
    "    # Solve the inverse kinematics for the current position  \n",
    "    T_act = robot.fkine(q_act)\n",
    "    T_des = robot.fkine(q_des)\n",
    "\n",
    "    # Find the analytical Jacobians  \n",
    "    J_act = np.round(robot.jacob0_analytical(q_act, representation='eul'),4)\n",
    "    J_des = np.round(robot.jacob0_analytical(q_des, representation='eul'),4)\n",
    "    Jd_act = np.round(robot.jacob0_dot(q_act, qd_act, representation='eul'),4)\n",
    "    invJ_act = np.round(np.linalg.pinv(J_act),4)\n",
    "\n",
    "    # Create vectors to calculate position errors \n",
    "    x_e = np.empty(6)\n",
    "    x_e[:3] = T_act.A[:3,-1]\n",
    "    x_e[3:] = sm.base.tr2eul(T_act.R)\n",
    "    x_d = np.empty(6)\n",
    "    x_d[:3] = T_des.A[:3,-1]\n",
    "    x_d[3:] = sm.base.tr2eul(T_des.R)\n",
    "\n",
    "    # Create vectors to calculate velocity errors  \n",
    "    xd_e = J_act @ qd_act\n",
    "    xd_d = J_des @ qd_des\n",
    "\n",
    "    # Set the desired acceleration  \n",
    "    xdd_des = np.array([0,0,0,0,0,0]) \n",
    "\n",
    "    # Solve it\n",
    "    tau = \n",
    "\n",
    "    # Save values for plotting (You will need to figure out how to plot them correctly)  \n",
    "    errors.append(x_d - x_e)\n",
    "    torques.append(tau)\n",
    "\n",
    "    return tau"
   ]
  },
  {
   "cell_type": "markdown",
   "metadata": {},
   "source": [
    " Solve the forward dynamics problem"
   ]
  },
  {
   "cell_type": "code",
   "execution_count": 17,
   "metadata": {},
   "outputs": [
    {
     "name": "stdout",
     "output_type": "stream",
     "text": [
      "                                                                                          \n"
     ]
    }
   ],
   "source": [
    "tg = robot.fdyn(t_stop, q_start, impedance_control, solver=\"RK45\", dt=t_shag, progress=True, solver_args={\"atol\":1e-3,\"rtol\":1e-2})\n",
    "cq_tg = robot.fkine(tg.q)\n",
    "cqd_tg = robot.fkine(tg.qd)"
   ]
  },
  {
   "cell_type": "markdown",
   "metadata": {},
   "source": [
    "### 6. Plot graphs"
   ]
  },
  {
   "cell_type": "markdown",
   "metadata": {},
   "source": [
    "Add plot the position graph  "
   ]
  },
  {
   "cell_type": "markdown",
   "metadata": {},
   "source": [
    "Add plot velocity graph"
   ]
  }
 ],
 "metadata": {
  "kernelspec": {
   "display_name": "Python 3",
   "language": "python",
   "name": "python3"
  },
  "language_info": {
   "codemirror_mode": {
    "name": "ipython",
    "version": 3
   },
   "file_extension": ".py",
   "mimetype": "text/x-python",
   "name": "python",
   "nbconvert_exporter": "python",
   "pygments_lexer": "ipython3",
   "version": "3.10.2"
  }
 },
 "nbformat": 4,
 "nbformat_minor": 2
}
